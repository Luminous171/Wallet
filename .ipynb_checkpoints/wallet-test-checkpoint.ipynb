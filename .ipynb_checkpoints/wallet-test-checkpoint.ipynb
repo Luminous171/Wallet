{
 "cells": [
  {
   "cell_type": "code",
   "execution_count": 10,
   "metadata": {},
   "outputs": [],
   "source": [
    "import subprocess # Library for using the terminal\n",
    "import os\n",
    "from dotenv import load_dotenv\n",
    "import json\n",
    "from constants import *\n",
    "import bit\n",
    "import web3\n",
    "from web3 import Web3\n",
    "from bit.network import NetworkAPI\n",
    "from eth_account import Account\n",
    "from web3.middleware import geth_poa_middleware"
   ]
  },
  {
   "cell_type": "code",
   "execution_count": 11,
   "metadata": {},
   "outputs": [],
   "source": [
    "# Load .env enviroment variables and mnemomic\n",
    "load_dotenv()\n",
    "mnemonic = os.getenv('MNEMONIC')"
   ]
  },
  {
   "cell_type": "code",
   "execution_count": 14,
   "metadata": {},
   "outputs": [
    {
     "data": {
      "text/plain": [
       "{'btc-test': [{'address': 'muxWWxbTF8vpQsyMmTunmHWfognKL89M1o',\n",
       "   'index': 0,\n",
       "   'path': \"m/44'/1'/0'/0/0\",\n",
       "   'privkey': 'cUq1x97zQDK9afFh9g1dPFA2kNv9FtvnmqEd1C3H2MNU5zyxfmuY',\n",
       "   'pubkey': '037e0a997a575c6d4224ed3ea991886a8823e7240da1497169337438055edc4127',\n",
       "   'pubkeyhash': '9e670ed9c78811f7a6ca79be01c166f0d98fedae',\n",
       "   'xprv': 'tprv8kQQaLPfW8ccxhzzagrLy6yru3RDPmehBv5sN97EUoRfAgqmevdTcMmj6yfYcJ3JpTJrUuA2S5gjFzQLTiC8ojxTMtAZTQdQ4i3TwrYuCEH',\n",
       "   'xpub': 'tpubDH6SikRueWJHrB2nULWwNWdyU4w9Z6qbmDgeef9Xu5E41B6YHKT3nrPbH7sU6YzvYyTXga6q3AXp6BQSho4niNe6XdKBtGA9EEaqDy4JjPU'},\n",
       "  {'address': 'mjc1nEPqXXC5NdwcnJ7DypBUSjSPNWCmn3',\n",
       "   'index': 1,\n",
       "   'path': \"m/44'/1'/0'/0/1\",\n",
       "   'privkey': 'cRDpmh4S3yft1isH3K6nShAoLDF6iLczr4jk5vQACzsAwtL5Yu8R',\n",
       "   'pubkey': '0226efcea7405c91ea6c5800b561d06fedc4b88208cab596d64a700f525230d568',\n",
       "   'pubkeyhash': '2cd57e25ad07bc5f336e182b79aa0219eb8db41c',\n",
       "   'xprv': 'tprv8kQQaLPfW8cd1jcSxkei1PyBvBFcHCNCTKG5sNNJAdT5dFQ6VPpbcpMsKqVBh4S6i71v3dyucRYpeHcvFRBQoJXnaEtzoWUfiMX7X8Wkroz',\n",
       "   'xpub': 'tpubDH6SikRueWJHuCeErQKJQodJVCmYSXZ72crs9tQbauFUTjes7neBoJyjVwuPxJgxSNTT3W8JusyKxhUJGzBbZkHpNuRFi1NYbtNRXYXGhh3'},\n",
       "  {'address': 'mm3ViYMZTx95vPDa5eMepBiy4QZ75qsA5t',\n",
       "   'index': 2,\n",
       "   'path': \"m/44'/1'/0'/0/2\",\n",
       "   'privkey': 'cVqYrZ3sxXiUoHqPw6B4hV8U2qND4zMPJk5tVBLCq1mrU2ms2BVT',\n",
       "   'pubkey': '03e4e9271d6965791e7c313977bebd08fe1cac4a9c49616c9314642649adf5c700',\n",
       "   'pubkeyhash': '3c9f5673958dee30e8985746ef022c3d7eb4c531',\n",
       "   'xprv': 'tprv8kQQaLPfW8cd4Fx8UHk1mi59wE6i1PfAXifrgoNidDt3CzBYeYvMYrTT4dWs4PVx9AJLfnwj7N8HDkjzFCmspuQhbq9M43c7C47MsmvRMJL',\n",
       "   'xpub': 'tpubDH6SikRueWJHwiyvMwQcB7jGWFceAir572GdyKR23VgS3USKGwjwjM5KEnGq3jnzgVK9RbaZv2vv5nx4tJWEGGurcEBeysqekqRzUo6q5qs'}],\n",
       " 'eth': [{'address': '0x63f59FD2147C2DF0D5fA3DF25d89186F6F9913D0',\n",
       "   'index': 0,\n",
       "   'path': \"m/44'/60'/0'/0/0\",\n",
       "   'privkey': '0xafaacb45523be58321b6bdcd173555388455e66a2b296938205a40bc33a84da4',\n",
       "   'pubkey': '02404844abbb6796567b772480d30658b4aedd983466e309bb12afff28a9680d71',\n",
       "   'pubkeyhash': 'b0f73dd6555770c6e64b4092d8d7b5713baa1bae',\n",
       "   'xprv': 'xprvA2sAYUGvv3HpnCBfSbbgJ3munvTfWHZX43qJ87VzyHPfkpLm6NtmcdsCXAQuPiJ4pjU47xH4zRpqPZ6nvK1DPPQ1jthrKyJQ8uVSDCDfgkJ',\n",
       "   'xpub': 'xpub6FrWwyopkQr7zgG8Yd8gfBieLxJ9ukHNRGktvVucXcvedcfudvD2ASBgNQbcf6CFwMSJ6yKAMjYVGjpva9kLwSP5hR221EmW3qgfGaXrpbR'},\n",
       "  {'address': '0x201c0d08E9717a821Ab0436a2b0cD7Ee90fB3e4F',\n",
       "   'index': 1,\n",
       "   'path': \"m/44'/60'/0'/0/1\",\n",
       "   'privkey': '0x40d94c10d77a429bac63dd2c5eee342e119181eca9fef170479bbfb4a7110221',\n",
       "   'pubkey': '038efc910b8c3dcdfdd70c9830c1cd5cecb188a3083b90f8aa662df213d3d34668',\n",
       "   'pubkeyhash': '4fed06c185fa726b8465fd09c5316888536a10ac',\n",
       "   'xprv': 'xprvA2sAYUGvv3Hpp8ypNHaKfQp6qHFKgTgqDmr9CK85y15mgw3TMCMXjugZwCraMpwAJUcB7VAxktJsizzZoMhXVVkCEUCf6WShPYUV8JUdcJ2',\n",
       "   'xpub': 'xpub6FrWwyopkQr82d4HUK7L2YkqPK5p5vQgazmjzhXhXLckZjNbtjfnHi13nWRVuKS3YKiACpbtHPbTBMZnopJSqGERW7Nd7jgHUFHarQmUiLd'},\n",
       "  {'address': '0x67ed5cDE9CadFCF1f42c20B6B4E4689c926f386a',\n",
       "   'index': 2,\n",
       "   'path': \"m/44'/60'/0'/0/2\",\n",
       "   'privkey': '0x6ad4d829f7bbf902ee8da2ea94d99c62f0650dab0262eaddc040336e315b74e3',\n",
       "   'pubkey': '023d3c5b4ddb64b369d86664580cb3914dfec873691e04d2d6cbe975d4467beb4a',\n",
       "   'pubkeyhash': 'e46b4709053654e8934e416504b8c603ec3a70c4',\n",
       "   'xprv': 'xprvA2sAYUGvv3HpsZyBdXrksxLyvLybvKB4QjET9vtX4Tc3UEhMYdCYVppmQ4sCDHFMBS2nfgz9Tb6vYmvjBFKiuzqLkdYmBxSupvfU8cQqphF',\n",
       "   'xpub': 'xpub6FrWwyopkQr8643ejZPmF6HiUNp6KmtumxA3xKJ8co92M32W6AWo3d9FFKYsyVPemed1GZfhaTZ72CKcbRkV2CSws3PcpGHpZ4KQmP1n2je'}]}"
      ]
     },
     "execution_count": 14,
     "metadata": {},
     "output_type": "execute_result"
    }
   ],
   "source": [
    "# Function used to derive wallet keys from master key\n",
    "def derive_wallets(mnemonic,Coin,Numderive):\n",
    "\n",
    "    # For Windows users the php derive part replaces ./derive\n",
    "    command = f'php derive -g --mnemonic=\"{mnemonic}\" --cols=address,index,path,privkey,pubkey,pubkeyhash,xprv,xpub --coin={Coin} --numderive={Numderive} --format=json'\n",
    "\n",
    "    p = subprocess.Popen(command, stdout=subprocess.PIPE, shell=True)\n",
    "    (output, error) = p.communicate()\n",
    "    p_status = p.wait()\n",
    "\n",
    "    # print(output)\n",
    "    keys = json.loads(output)\n",
    "    return keys\n",
    "\n",
    "coins = {}\n",
    "types = [BTCTEST,ETH]\n",
    "\n",
    "for type in types:\n",
    "    coins[type] = derive_wallets(Mnemonic, type, 3)\n",
    "\n",
    "coins"
   ]
  },
  {
   "cell_type": "code",
   "execution_count": 21,
   "metadata": {},
   "outputs": [
    {
     "data": {
      "text/plain": [
       "'muxWWxbTF8vpQsyMmTunmHWfognKL89M1o'"
      ]
     },
     "execution_count": 21,
     "metadata": {},
     "output_type": "execute_result"
    }
   ],
   "source": [
    "coins[BTCTEST][0]['address']"
   ]
  },
  {
   "cell_type": "code",
   "execution_count": 18,
   "metadata": {},
   "outputs": [],
   "source": [
    "w3 = Web3(Web3.HTTPProvider('http://127.0.0.1:8545'))\n",
    "w3.middleware_onion.inject(geth_poa_middleware, layer=0)\n",
    "\n",
    "# Function used to convert key to account\n",
    "def priv_key_to_account(coin,priv_key):\n",
    "    if coin == BTCTEST:\n",
    "        return bit.PrivateKeyTestnet(priv_key)\n",
    "    elif coin == ETH:\n",
    "        return Account.privateKeyToAccount(priv_key)\n",
    "    else:\n",
    "        print('Must use either BTCTEST or ETH')\n",
    "\n",
    "# Function used to create a transaction\n",
    "def create_tx(coin,account,to,amount):\n",
    "    if coin == BTCTEST:\n",
    "        return bit.PrivateKeyTestnet.prepare_transaction(account.address, [(to,amount, BTC)])\n",
    "    elif coin == ETH:\n",
    "        \n",
    "        \n",
    "        gas_estimate = w3.eth.estimateGas(\n",
    "            {'from': account.address, 'to': to, 'value': amount}\n",
    "        )\n",
    "\n",
    "        return {\n",
    "            'from': account.address,\n",
    "            'to': to,\n",
    "            'value': amount,\n",
    "            'gasPrice': w3.eth.gasPrice,\n",
    "            'gas': gas_estimate,\n",
    "            'nonce': w3.eth.getTransactionCount(account.address)\n",
    "        }\n",
    "    else:\n",
    "        print('Must use either BTCTEST or ETH')\n",
    "\n",
    "# Function used to send transaction\n",
    "def send_tx(coin,account,to,amount):\n",
    "    if coin == BTCTEST:\n",
    "        raw_tx = create_tx(coin,account,to,amount)\n",
    "        signed = account.sign_transaction(raw_tx)\n",
    "        return NetworkAPI.broadcast_tx_testnet(signed)\n",
    "    elif coin == ETH:\n",
    "        raw_tx = create_tx(coin,account,to,amount)\n",
    "        signed = account.signTransaction(raw_tx)\n",
    "        return w3.eth.sendRawTransaction(signed.rawTransaction)\n",
    "    else:\n",
    "        print('Must use either BTCTEST or ETH')   "
   ]
  },
  {
   "cell_type": "markdown",
   "metadata": {},
   "source": [
    "# Sending a Transaction"
   ]
  },
  {
   "cell_type": "code",
   "execution_count": 20,
   "metadata": {},
   "outputs": [],
   "source": [
    "# Setting variables to pass functions\n",
    "# ETH and BTCTEST are the only supported currencies and do not need strings as they are global variables\n",
    "currency_to_transact = BTCTEST\n",
    "owner_account_priv_key = coins[currency_to_transact][0]['privkey']\n",
    "receiver_account = coins[currency_to_transact][1]['address']\n",
    "ETH_to_send = 10000\n",
    "BTCTEST_to_send = 0.00001\n",
    "\n",
    "# Set the account key with the appropriate package using the above function\n",
    "account = priv_key_to_account(currency_to_transact,owner_account_priv_key)\n",
    "\n",
    "# Use if statement to pass the right amount to the function for sending a transaction\n",
    "if currency_to_transact == ETH:\n",
    "    send_tx(currency_to_transact,account,receiver_account,ETH_to_send)\n",
    "elif currency_to_transact == BTCTEST:\n",
    "    send_tx(currency_to_transact,account,receiver_account,BTCTEST_to_send)\n",
    "else:\n",
    "    print('You can only use ETH or BTCTEST to transact.')"
   ]
  },
  {
   "cell_type": "code",
   "execution_count": null,
   "metadata": {},
   "outputs": [],
   "source": []
  }
 ],
 "metadata": {
  "kernelspec": {
   "display_name": "ethereum",
   "language": "python",
   "name": "ethereum"
  },
  "language_info": {
   "codemirror_mode": {
    "name": "ipython",
    "version": 3
   },
   "file_extension": ".py",
   "mimetype": "text/x-python",
   "name": "python",
   "nbconvert_exporter": "python",
   "pygments_lexer": "ipython3",
   "version": "3.7.9"
  }
 },
 "nbformat": 4,
 "nbformat_minor": 4
}
